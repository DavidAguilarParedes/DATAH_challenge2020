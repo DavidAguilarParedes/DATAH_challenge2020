{
 "cells": [
  {
   "cell_type": "markdown",
   "metadata": {},
   "source": [
    "# PCA challenge"
   ]
  },
  {
   "cell_type": "markdown",
   "metadata": {},
   "source": [
    "### 2.1 Carga de los datos y librerías\n"
   ]
  },
  {
   "cell_type": "code",
   "execution_count": 1,
   "metadata": {},
   "outputs": [],
   "source": [
    "import pandas as pd\n",
    "import numpy as np\n",
    "import matplotlib.pyplot as plt\n",
    "from sklearn.decomposition import PCA \n",
    "from sklearn.preprocessing import StandardScaler\n",
    "%matplotlib inline\n",
    "\n"
   ]
  },
  {
   "cell_type": "code",
   "execution_count": 2,
   "metadata": {},
   "outputs": [],
   "source": [
    "my_sheet = 'Sheet1'\n",
    "file_name = 'PCA_exercise_1.xlsx' # name of your excel file\n",
    "df_in = pd.read_excel(file_name, sheet_name = my_sheet)"
   ]
  },
  {
   "cell_type": "code",
   "execution_count": 3,
   "metadata": {},
   "outputs": [
    {
     "data": {
      "text/html": [
       "<div>\n",
       "<style scoped>\n",
       "    .dataframe tbody tr th:only-of-type {\n",
       "        vertical-align: middle;\n",
       "    }\n",
       "\n",
       "    .dataframe tbody tr th {\n",
       "        vertical-align: top;\n",
       "    }\n",
       "\n",
       "    .dataframe thead th {\n",
       "        text-align: right;\n",
       "    }\n",
       "</style>\n",
       "<table border=\"1\" class=\"dataframe\">\n",
       "  <thead>\n",
       "    <tr style=\"text-align: right;\">\n",
       "      <th></th>\n",
       "      <th>Unnamed: 0</th>\n",
       "      <th>Unnamed: 1</th>\n",
       "      <th>Unnamed: 2</th>\n",
       "      <th>Unnamed: 3</th>\n",
       "      <th>Unnamed: 4</th>\n",
       "      <th>Unnamed: 5</th>\n",
       "    </tr>\n",
       "  </thead>\n",
       "  <tbody>\n",
       "    <tr>\n",
       "      <td>0</td>\n",
       "      <td>NaN</td>\n",
       "      <td>NaN</td>\n",
       "      <td>Object 1</td>\n",
       "      <td>Object 2</td>\n",
       "      <td>Object 3</td>\n",
       "      <td>Object 4</td>\n",
       "    </tr>\n",
       "    <tr>\n",
       "      <td>1</td>\n",
       "      <td>NaN</td>\n",
       "      <td>Band 1</td>\n",
       "      <td>375</td>\n",
       "      <td>135</td>\n",
       "      <td>458</td>\n",
       "      <td>475</td>\n",
       "    </tr>\n",
       "    <tr>\n",
       "      <td>2</td>\n",
       "      <td>NaN</td>\n",
       "      <td>Band 2</td>\n",
       "      <td>57</td>\n",
       "      <td>47</td>\n",
       "      <td>53</td>\n",
       "      <td>73</td>\n",
       "    </tr>\n",
       "    <tr>\n",
       "      <td>3</td>\n",
       "      <td>NaN</td>\n",
       "      <td>Band 3</td>\n",
       "      <td>245</td>\n",
       "      <td>267</td>\n",
       "      <td>242</td>\n",
       "      <td>227</td>\n",
       "    </tr>\n",
       "    <tr>\n",
       "      <td>4</td>\n",
       "      <td>NaN</td>\n",
       "      <td>Band 4</td>\n",
       "      <td>1472</td>\n",
       "      <td>1494</td>\n",
       "      <td>1462</td>\n",
       "      <td>1582</td>\n",
       "    </tr>\n",
       "  </tbody>\n",
       "</table>\n",
       "</div>"
      ],
      "text/plain": [
       "   Unnamed: 0 Unnamed: 1 Unnamed: 2 Unnamed: 3 Unnamed: 4 Unnamed: 5\n",
       "0         NaN        NaN   Object 1   Object 2   Object 3   Object 4\n",
       "1         NaN     Band 1        375        135        458        475\n",
       "2         NaN     Band 2         57         47         53         73\n",
       "3         NaN     Band 3        245        267        242        227\n",
       "4         NaN     Band 4       1472       1494       1462       1582"
      ]
     },
     "execution_count": 3,
     "metadata": {},
     "output_type": "execute_result"
    }
   ],
   "source": [
    "df_in.head() # shows headers with top 5 rows"
   ]
  },
  {
   "cell_type": "code",
   "execution_count": 4,
   "metadata": {},
   "outputs": [],
   "source": [
    "#Cleaning the data\n",
    "df_in.drop(df_in.columns[[0,1]],axis=1, inplace = True )\n",
    "df_in.drop(0,inplace = True)\n",
    "df_in.rename(columns={'Unnamed: 1':'Band','Unnamed: 2':'1', 'Unnamed: 3':'2', 'Unnamed: 4':'3', 'Unnamed: 5':'4'}, inplace=True)\n",
    "df_in.rename(index={1: 'Band 1',2: 'Band 2',3: 'Band 3',4: 'Band 4',5: 'Band 5',6: 'Band 6',7: 'Band 7',8: 'Band 8',9: 'Band 9',\n",
    "                    10: 'Band 10',11: 'Band 11',12: 'Band 12',13: 'Band 13',14: 'Band 14',15: 'Band 15',16: 'Band 16',17: 'Band 17'}, inplace=True)"
   ]
  },
  {
   "cell_type": "code",
   "execution_count": 5,
   "metadata": {},
   "outputs": [
    {
     "data": {
      "text/html": [
       "<div>\n",
       "<style scoped>\n",
       "    .dataframe tbody tr th:only-of-type {\n",
       "        vertical-align: middle;\n",
       "    }\n",
       "\n",
       "    .dataframe tbody tr th {\n",
       "        vertical-align: top;\n",
       "    }\n",
       "\n",
       "    .dataframe thead th {\n",
       "        text-align: right;\n",
       "    }\n",
       "</style>\n",
       "<table border=\"1\" class=\"dataframe\">\n",
       "  <thead>\n",
       "    <tr style=\"text-align: right;\">\n",
       "      <th></th>\n",
       "      <th>1</th>\n",
       "      <th>2</th>\n",
       "      <th>3</th>\n",
       "      <th>4</th>\n",
       "    </tr>\n",
       "  </thead>\n",
       "  <tbody>\n",
       "    <tr>\n",
       "      <td>Band 1</td>\n",
       "      <td>375</td>\n",
       "      <td>135</td>\n",
       "      <td>458</td>\n",
       "      <td>475</td>\n",
       "    </tr>\n",
       "    <tr>\n",
       "      <td>Band 2</td>\n",
       "      <td>57</td>\n",
       "      <td>47</td>\n",
       "      <td>53</td>\n",
       "      <td>73</td>\n",
       "    </tr>\n",
       "    <tr>\n",
       "      <td>Band 3</td>\n",
       "      <td>245</td>\n",
       "      <td>267</td>\n",
       "      <td>242</td>\n",
       "      <td>227</td>\n",
       "    </tr>\n",
       "    <tr>\n",
       "      <td>Band 4</td>\n",
       "      <td>1472</td>\n",
       "      <td>1494</td>\n",
       "      <td>1462</td>\n",
       "      <td>1582</td>\n",
       "    </tr>\n",
       "    <tr>\n",
       "      <td>Band 5</td>\n",
       "      <td>105</td>\n",
       "      <td>66</td>\n",
       "      <td>103</td>\n",
       "      <td>103</td>\n",
       "    </tr>\n",
       "  </tbody>\n",
       "</table>\n",
       "</div>"
      ],
      "text/plain": [
       "           1     2     3     4\n",
       "Band 1   375   135   458   475\n",
       "Band 2    57    47    53    73\n",
       "Band 3   245   267   242   227\n",
       "Band 4  1472  1494  1462  1582\n",
       "Band 5   105    66   103   103"
      ]
     },
     "execution_count": 5,
     "metadata": {},
     "output_type": "execute_result"
    }
   ],
   "source": [
    "df_in.head() # shows headers with top 5 rows"
   ]
  },
  {
   "cell_type": "code",
   "execution_count": 6,
   "metadata": {},
   "outputs": [
    {
     "data": {
      "text/html": [
       "<div>\n",
       "<style scoped>\n",
       "    .dataframe tbody tr th:only-of-type {\n",
       "        vertical-align: middle;\n",
       "    }\n",
       "\n",
       "    .dataframe tbody tr th {\n",
       "        vertical-align: top;\n",
       "    }\n",
       "\n",
       "    .dataframe thead th {\n",
       "        text-align: right;\n",
       "    }\n",
       "</style>\n",
       "<table border=\"1\" class=\"dataframe\">\n",
       "  <thead>\n",
       "    <tr style=\"text-align: right;\">\n",
       "      <th></th>\n",
       "      <th>Band 1</th>\n",
       "      <th>Band 2</th>\n",
       "      <th>Band 3</th>\n",
       "      <th>Band 4</th>\n",
       "      <th>Band 5</th>\n",
       "      <th>Band 6</th>\n",
       "      <th>Band 7</th>\n",
       "      <th>Band 8</th>\n",
       "      <th>Band 9</th>\n",
       "      <th>Band 10</th>\n",
       "      <th>Band 11</th>\n",
       "      <th>Band 12</th>\n",
       "      <th>Band 13</th>\n",
       "      <th>Band 14</th>\n",
       "      <th>Band 15</th>\n",
       "      <th>Band 16</th>\n",
       "      <th>Band 17</th>\n",
       "    </tr>\n",
       "  </thead>\n",
       "  <tbody>\n",
       "    <tr>\n",
       "      <td>1</td>\n",
       "      <td>375</td>\n",
       "      <td>57</td>\n",
       "      <td>245</td>\n",
       "      <td>1472</td>\n",
       "      <td>105</td>\n",
       "      <td>54</td>\n",
       "      <td>193</td>\n",
       "      <td>147</td>\n",
       "      <td>1102</td>\n",
       "      <td>720</td>\n",
       "      <td>253</td>\n",
       "      <td>685</td>\n",
       "      <td>488</td>\n",
       "      <td>198</td>\n",
       "      <td>360</td>\n",
       "      <td>1374</td>\n",
       "      <td>156</td>\n",
       "    </tr>\n",
       "    <tr>\n",
       "      <td>2</td>\n",
       "      <td>135</td>\n",
       "      <td>47</td>\n",
       "      <td>267</td>\n",
       "      <td>1494</td>\n",
       "      <td>66</td>\n",
       "      <td>41</td>\n",
       "      <td>209</td>\n",
       "      <td>93</td>\n",
       "      <td>674</td>\n",
       "      <td>1033</td>\n",
       "      <td>143</td>\n",
       "      <td>586</td>\n",
       "      <td>355</td>\n",
       "      <td>187</td>\n",
       "      <td>334</td>\n",
       "      <td>1506</td>\n",
       "      <td>139</td>\n",
       "    </tr>\n",
       "    <tr>\n",
       "      <td>3</td>\n",
       "      <td>458</td>\n",
       "      <td>53</td>\n",
       "      <td>242</td>\n",
       "      <td>1462</td>\n",
       "      <td>103</td>\n",
       "      <td>62</td>\n",
       "      <td>184</td>\n",
       "      <td>122</td>\n",
       "      <td>957</td>\n",
       "      <td>566</td>\n",
       "      <td>171</td>\n",
       "      <td>750</td>\n",
       "      <td>418</td>\n",
       "      <td>220</td>\n",
       "      <td>337</td>\n",
       "      <td>1572</td>\n",
       "      <td>147</td>\n",
       "    </tr>\n",
       "    <tr>\n",
       "      <td>4</td>\n",
       "      <td>475</td>\n",
       "      <td>73</td>\n",
       "      <td>227</td>\n",
       "      <td>1582</td>\n",
       "      <td>103</td>\n",
       "      <td>64</td>\n",
       "      <td>235</td>\n",
       "      <td>160</td>\n",
       "      <td>1137</td>\n",
       "      <td>874</td>\n",
       "      <td>265</td>\n",
       "      <td>803</td>\n",
       "      <td>570</td>\n",
       "      <td>203</td>\n",
       "      <td>365</td>\n",
       "      <td>1256</td>\n",
       "      <td>175</td>\n",
       "    </tr>\n",
       "  </tbody>\n",
       "</table>\n",
       "</div>"
      ],
      "text/plain": [
       "  Band 1 Band 2 Band 3 Band 4 Band 5 Band 6 Band 7 Band 8 Band 9 Band 10  \\\n",
       "1    375     57    245   1472    105     54    193    147   1102     720   \n",
       "2    135     47    267   1494     66     41    209     93    674    1033   \n",
       "3    458     53    242   1462    103     62    184    122    957     566   \n",
       "4    475     73    227   1582    103     64    235    160   1137     874   \n",
       "\n",
       "  Band 11 Band 12 Band 13 Band 14 Band 15 Band 16 Band 17  \n",
       "1     253     685     488     198     360    1374     156  \n",
       "2     143     586     355     187     334    1506     139  \n",
       "3     171     750     418     220     337    1572     147  \n",
       "4     265     803     570     203     365    1256     175  "
      ]
     },
     "execution_count": 6,
     "metadata": {},
     "output_type": "execute_result"
    }
   ],
   "source": [
    "df = df_in.transpose()\n",
    "df.head()"
   ]
  },
  {
   "cell_type": "code",
   "execution_count": 7,
   "metadata": {},
   "outputs": [],
   "source": [
    "# Se divide la matriz del dataset \n",
    "X = df.iloc[:,0:17].values\n",
    "# la submatriz x contiene los valores de las primeras 4 columnas del dataframe y todas las filas\n"
   ]
  },
  {
   "cell_type": "code",
   "execution_count": 8,
   "metadata": {},
   "outputs": [
    {
     "name": "stdout",
     "output_type": "stream",
     "text": [
      "[[375 57 245 1472 105 54 193 147 1102 720 253 685 488 198 360 1374 156]\n",
      " [135 47 267 1494 66 41 209 93 674 1033 143 586 355 187 334 1506 139]\n",
      " [458 53 242 1462 103 62 184 122 957 566 171 750 418 220 337 1572 147]\n",
      " [475 73 227 1582 103 64 235 160 1137 874 265 803 570 203 365 1256 175]]\n"
     ]
    }
   ],
   "source": [
    "print(X)"
   ]
  },
  {
   "cell_type": "markdown",
   "metadata": {},
   "source": [
    "### 2.2 Normalización"
   ]
  },
  {
   "cell_type": "code",
   "execution_count": 9,
   "metadata": {},
   "outputs": [],
   "source": [
    "#Aplicamos una transformación de los datos para poder aplicar las propiedades de la distribución normal\n",
    "from sklearn.preprocessing import StandardScaler\n",
    "X_std = StandardScaler().fit_transform(X)"
   ]
  },
  {
   "cell_type": "code",
   "execution_count": 10,
   "metadata": {},
   "outputs": [
    {
     "data": {
      "text/plain": [
       "(4, 17)"
      ]
     },
     "execution_count": 10,
     "metadata": {},
     "output_type": "execute_result"
    }
   ],
   "source": [
    "X_std.shape"
   ]
  },
  {
   "cell_type": "code",
   "execution_count": 11,
   "metadata": {},
   "outputs": [
    {
     "data": {
      "text/plain": [
       "(-3.2653618371328133e-18, 1.0)"
      ]
     },
     "execution_count": 11,
     "metadata": {},
     "output_type": "execute_result"
    }
   ],
   "source": [
    "#Let's check whether the normalized data has a mean of zero and a standard deviation of one.\n",
    "np.mean(X_std),np.std(X_std)"
   ]
  },
  {
   "cell_type": "markdown",
   "metadata": {},
   "source": [
    "### 2.2.2 PCA analisis\n"
   ]
  },
  {
   "cell_type": "code",
   "execution_count": 12,
   "metadata": {},
   "outputs": [],
   "source": [
    "from sklearn.decomposition import PCA\n",
    "\n",
    "pca_stars = PCA(n_components =2)\n",
    "principalComponents_stars = pca_stars.fit_transform(X_std)"
   ]
  },
  {
   "cell_type": "code",
   "execution_count": 13,
   "metadata": {},
   "outputs": [],
   "source": [
    "principal_stars_Df = pd.DataFrame(data = principalComponents_stars\n",
    "             , columns = ['principal component 1', 'principal component 2'])"
   ]
  },
  {
   "cell_type": "code",
   "execution_count": 14,
   "metadata": {},
   "outputs": [
    {
     "data": {
      "text/html": [
       "<div>\n",
       "<style scoped>\n",
       "    .dataframe tbody tr th:only-of-type {\n",
       "        vertical-align: middle;\n",
       "    }\n",
       "\n",
       "    .dataframe tbody tr th {\n",
       "        vertical-align: top;\n",
       "    }\n",
       "\n",
       "    .dataframe thead th {\n",
       "        text-align: right;\n",
       "    }\n",
       "</style>\n",
       "<table border=\"1\" class=\"dataframe\">\n",
       "  <thead>\n",
       "    <tr style=\"text-align: right;\">\n",
       "      <th></th>\n",
       "      <th>principal component 1</th>\n",
       "      <th>principal component 2</th>\n",
       "    </tr>\n",
       "  </thead>\n",
       "  <tbody>\n",
       "    <tr>\n",
       "      <td>0</td>\n",
       "      <td>-0.954490</td>\n",
       "      <td>0.328318</td>\n",
       "    </tr>\n",
       "    <tr>\n",
       "      <td>1</td>\n",
       "      <td>4.987462</td>\n",
       "      <td>-1.826611</td>\n",
       "    </tr>\n",
       "    <tr>\n",
       "      <td>2</td>\n",
       "      <td>0.487978</td>\n",
       "      <td>3.233672</td>\n",
       "    </tr>\n",
       "    <tr>\n",
       "      <td>3</td>\n",
       "      <td>-4.520951</td>\n",
       "      <td>-1.735380</td>\n",
       "    </tr>\n",
       "  </tbody>\n",
       "</table>\n",
       "</div>"
      ],
      "text/plain": [
       "   principal component 1  principal component 2\n",
       "0              -0.954490               0.328318\n",
       "1               4.987462              -1.826611\n",
       "2               0.487978               3.233672\n",
       "3              -4.520951              -1.735380"
      ]
     },
     "execution_count": 14,
     "metadata": {},
     "output_type": "execute_result"
    }
   ],
   "source": [
    "principal_stars_Df.head()"
   ]
  },
  {
   "cell_type": "code",
   "execution_count": 15,
   "metadata": {},
   "outputs": [
    {
     "name": "stdout",
     "output_type": "stream",
     "text": [
      "Explained variation per principal component: [0.68327871 0.24871288]\n"
     ]
    }
   ],
   "source": [
    "print('Explained variation per principal component: {}'.format(pca_stars.explained_variance_ratio_))"
   ]
  },
  {
   "cell_type": "code",
   "execution_count": 16,
   "metadata": {},
   "outputs": [],
   "source": [
    "principal_stars_Df.rename(index={0:'Object 1',1:'Object 2', 2:'Object 3', 3:'Object 4'}, inplace=True)"
   ]
  },
  {
   "cell_type": "code",
   "execution_count": 17,
   "metadata": {},
   "outputs": [
    {
     "data": {
      "text/html": [
       "<div>\n",
       "<style scoped>\n",
       "    .dataframe tbody tr th:only-of-type {\n",
       "        vertical-align: middle;\n",
       "    }\n",
       "\n",
       "    .dataframe tbody tr th {\n",
       "        vertical-align: top;\n",
       "    }\n",
       "\n",
       "    .dataframe thead th {\n",
       "        text-align: right;\n",
       "    }\n",
       "</style>\n",
       "<table border=\"1\" class=\"dataframe\">\n",
       "  <thead>\n",
       "    <tr style=\"text-align: right;\">\n",
       "      <th></th>\n",
       "      <th>principal component 1</th>\n",
       "      <th>principal component 2</th>\n",
       "    </tr>\n",
       "  </thead>\n",
       "  <tbody>\n",
       "    <tr>\n",
       "      <td>Object 1</td>\n",
       "      <td>-0.954490</td>\n",
       "      <td>0.328318</td>\n",
       "    </tr>\n",
       "    <tr>\n",
       "      <td>Object 2</td>\n",
       "      <td>4.987462</td>\n",
       "      <td>-1.826611</td>\n",
       "    </tr>\n",
       "    <tr>\n",
       "      <td>Object 3</td>\n",
       "      <td>0.487978</td>\n",
       "      <td>3.233672</td>\n",
       "    </tr>\n",
       "    <tr>\n",
       "      <td>Object 4</td>\n",
       "      <td>-4.520951</td>\n",
       "      <td>-1.735380</td>\n",
       "    </tr>\n",
       "  </tbody>\n",
       "</table>\n",
       "</div>"
      ],
      "text/plain": [
       "          principal component 1  principal component 2\n",
       "Object 1              -0.954490               0.328318\n",
       "Object 2               4.987462              -1.826611\n",
       "Object 3               0.487978               3.233672\n",
       "Object 4              -4.520951              -1.735380"
      ]
     },
     "execution_count": 17,
     "metadata": {},
     "output_type": "execute_result"
    }
   ],
   "source": [
    "principal_stars_Df.head()"
   ]
  },
  {
   "cell_type": "markdown",
   "metadata": {},
   "source": [
    "#### plot visualization"
   ]
  },
  {
   "cell_type": "code",
   "execution_count": 18,
   "metadata": {},
   "outputs": [],
   "source": [
    "objects = ['Object 1','Object 2','Object 3','Object 4']"
   ]
  },
  {
   "cell_type": "code",
   "execution_count": 19,
   "metadata": {},
   "outputs": [],
   "source": [
    "df[\"Objects\"]= objects"
   ]
  },
  {
   "cell_type": "code",
   "execution_count": 20,
   "metadata": {},
   "outputs": [
    {
     "data": {
      "text/plain": [
       "<matplotlib.legend.Legend at 0x255158d6388>"
      ]
     },
     "execution_count": 20,
     "metadata": {},
     "output_type": "execute_result"
    },
    {
     "data": {
      "text/plain": [
       "<Figure size 432x288 with 0 Axes>"
      ]
     },
     "metadata": {},
     "output_type": "display_data"
    },
    {
     "data": {
      "image/png": "[encoded data removed]",
      "text/plain": [
       "<Figure size 720x720 with 1 Axes>"
      ]
     },
     "metadata": {
      "needs_background": "light"
     },
     "output_type": "display_data"
    }
   ],
   "source": [
    "plt.figure()\n",
    "plt.figure(figsize=(10,10))\n",
    "plt.xticks(fontsize=12)\n",
    "plt.yticks(fontsize=14)\n",
    "plt.xlabel('Principal Component - 1',fontsize=20)\n",
    "plt.ylabel('Principal Component - 2',fontsize=20)\n",
    "plt.title(\"Principal Component Analysis of Stars\",fontsize=20)\n",
    "targets = ['Object 1', 'Object 2', 'Object 3' ,'Object 4'] # change to Object 1\n",
    "colors = ['r', 'g','m','b']\n",
    "\n",
    "for target, color in zip(targets,colors):\n",
    "    \n",
    "    if (target in df[\"Objects\"].values):\n",
    "        indicesToKeep = target\n",
    "        plt.scatter(principal_stars_Df.loc[indicesToKeep, 'principal component 1']\n",
    "               , principal_stars_Df.loc[indicesToKeep, 'principal component 2'], c = color, s = 50)\n",
    "\n",
    "plt.legend(targets,prop={'size': 15})"
   ]
  },
  {
   "cell_type": "code",
   "execution_count": 21,
   "metadata": {},
   "outputs": [
    {
     "data": {
      "text/html": [
       "<div>\n",
       "<style scoped>\n",
       "    .dataframe tbody tr th:only-of-type {\n",
       "        vertical-align: middle;\n",
       "    }\n",
       "\n",
       "    .dataframe tbody tr th {\n",
       "        vertical-align: top;\n",
       "    }\n",
       "\n",
       "    .dataframe thead th {\n",
       "        text-align: right;\n",
       "    }\n",
       "</style>\n",
       "<table border=\"1\" class=\"dataframe\">\n",
       "  <thead>\n",
       "    <tr style=\"text-align: right;\">\n",
       "      <th></th>\n",
       "      <th>Band 1</th>\n",
       "      <th>Band 2</th>\n",
       "      <th>Band 3</th>\n",
       "      <th>Band 4</th>\n",
       "      <th>Band 5</th>\n",
       "      <th>Band 6</th>\n",
       "      <th>Band 7</th>\n",
       "      <th>Band 8</th>\n",
       "      <th>Band 9</th>\n",
       "      <th>Band 10</th>\n",
       "      <th>Band 11</th>\n",
       "      <th>Band 12</th>\n",
       "      <th>Band 13</th>\n",
       "      <th>Band 14</th>\n",
       "      <th>Band 15</th>\n",
       "      <th>Band 16</th>\n",
       "      <th>Band 17</th>\n",
       "      <th>Objects</th>\n",
       "    </tr>\n",
       "  </thead>\n",
       "  <tbody>\n",
       "    <tr>\n",
       "      <td>1</td>\n",
       "      <td>375</td>\n",
       "      <td>57</td>\n",
       "      <td>245</td>\n",
       "      <td>1472</td>\n",
       "      <td>105</td>\n",
       "      <td>54</td>\n",
       "      <td>193</td>\n",
       "      <td>147</td>\n",
       "      <td>1102</td>\n",
       "      <td>720</td>\n",
       "      <td>253</td>\n",
       "      <td>685</td>\n",
       "      <td>488</td>\n",
       "      <td>198</td>\n",
       "      <td>360</td>\n",
       "      <td>1374</td>\n",
       "      <td>156</td>\n",
       "      <td>Object 1</td>\n",
       "    </tr>\n",
       "    <tr>\n",
       "      <td>2</td>\n",
       "      <td>135</td>\n",
       "      <td>47</td>\n",
       "      <td>267</td>\n",
       "      <td>1494</td>\n",
       "      <td>66</td>\n",
       "      <td>41</td>\n",
       "      <td>209</td>\n",
       "      <td>93</td>\n",
       "      <td>674</td>\n",
       "      <td>1033</td>\n",
       "      <td>143</td>\n",
       "      <td>586</td>\n",
       "      <td>355</td>\n",
       "      <td>187</td>\n",
       "      <td>334</td>\n",
       "      <td>1506</td>\n",
       "      <td>139</td>\n",
       "      <td>Object 2</td>\n",
       "    </tr>\n",
       "    <tr>\n",
       "      <td>3</td>\n",
       "      <td>458</td>\n",
       "      <td>53</td>\n",
       "      <td>242</td>\n",
       "      <td>1462</td>\n",
       "      <td>103</td>\n",
       "      <td>62</td>\n",
       "      <td>184</td>\n",
       "      <td>122</td>\n",
       "      <td>957</td>\n",
       "      <td>566</td>\n",
       "      <td>171</td>\n",
       "      <td>750</td>\n",
       "      <td>418</td>\n",
       "      <td>220</td>\n",
       "      <td>337</td>\n",
       "      <td>1572</td>\n",
       "      <td>147</td>\n",
       "      <td>Object 3</td>\n",
       "    </tr>\n",
       "    <tr>\n",
       "      <td>4</td>\n",
       "      <td>475</td>\n",
       "      <td>73</td>\n",
       "      <td>227</td>\n",
       "      <td>1582</td>\n",
       "      <td>103</td>\n",
       "      <td>64</td>\n",
       "      <td>235</td>\n",
       "      <td>160</td>\n",
       "      <td>1137</td>\n",
       "      <td>874</td>\n",
       "      <td>265</td>\n",
       "      <td>803</td>\n",
       "      <td>570</td>\n",
       "      <td>203</td>\n",
       "      <td>365</td>\n",
       "      <td>1256</td>\n",
       "      <td>175</td>\n",
       "      <td>Object 4</td>\n",
       "    </tr>\n",
       "  </tbody>\n",
       "</table>\n",
       "</div>"
      ],
      "text/plain": [
       "  Band 1 Band 2 Band 3 Band 4 Band 5 Band 6 Band 7 Band 8 Band 9 Band 10  \\\n",
       "1    375     57    245   1472    105     54    193    147   1102     720   \n",
       "2    135     47    267   1494     66     41    209     93    674    1033   \n",
       "3    458     53    242   1462    103     62    184    122    957     566   \n",
       "4    475     73    227   1582    103     64    235    160   1137     874   \n",
       "\n",
       "  Band 11 Band 12 Band 13 Band 14 Band 15 Band 16 Band 17   Objects  \n",
       "1     253     685     488     198     360    1374     156  Object 1  \n",
       "2     143     586     355     187     334    1506     139  Object 2  \n",
       "3     171     750     418     220     337    1572     147  Object 3  \n",
       "4     265     803     570     203     365    1256     175  Object 4  "
      ]
     },
     "execution_count": 21,
     "metadata": {},
     "output_type": "execute_result"
    }
   ],
   "source": [
    "df.head()"
   ]
  },
  {
   "cell_type": "code",
   "execution_count": 22,
   "metadata": {},
   "outputs": [],
   "source": [
    "import seaborn as sn"
   ]
  },
  {
   "cell_type": "code",
   "execution_count": 23,
   "metadata": {},
   "outputs": [
    {
     "data": {
      "text/html": [
       "<div>\n",
       "<style scoped>\n",
       "    .dataframe tbody tr th:only-of-type {\n",
       "        vertical-align: middle;\n",
       "    }\n",
       "\n",
       "    .dataframe tbody tr th {\n",
       "        vertical-align: top;\n",
       "    }\n",
       "\n",
       "    .dataframe thead th {\n",
       "        text-align: right;\n",
       "    }\n",
       "</style>\n",
       "<table border=\"1\" class=\"dataframe\">\n",
       "  <thead>\n",
       "    <tr style=\"text-align: right;\">\n",
       "      <th></th>\n",
       "      <th>principal component 1</th>\n",
       "      <th>principal component 2</th>\n",
       "    </tr>\n",
       "  </thead>\n",
       "  <tbody>\n",
       "    <tr>\n",
       "      <td>principal component 1</td>\n",
       "      <td>1.000000e+00</td>\n",
       "      <td>3.168423e-17</td>\n",
       "    </tr>\n",
       "    <tr>\n",
       "      <td>principal component 2</td>\n",
       "      <td>3.168423e-17</td>\n",
       "      <td>1.000000e+00</td>\n",
       "    </tr>\n",
       "  </tbody>\n",
       "</table>\n",
       "</div>"
      ],
      "text/plain": [
       "                       principal component 1  principal component 2\n",
       "principal component 1           1.000000e+00           3.168423e-17\n",
       "principal component 2           3.168423e-17           1.000000e+00"
      ]
     },
     "execution_count": 23,
     "metadata": {},
     "output_type": "execute_result"
    }
   ],
   "source": [
    "principal_stars_Df.corr()"
   ]
  },
  {
   "cell_type": "code",
   "execution_count": 24,
   "metadata": {},
   "outputs": [],
   "source": [
    "obj = principal_stars_Df.values\n"
   ]
  },
  {
   "cell_type": "code",
   "execution_count": 25,
   "metadata": {},
   "outputs": [
    {
     "data": {
      "text/plain": [
       "array([[-0.95448984,  0.32831832],\n",
       "       [ 4.98746242, -1.8266106 ],\n",
       "       [ 0.48797835,  3.23367195],\n",
       "       [-4.52095094, -1.73537967]])"
      ]
     },
     "execution_count": 25,
     "metadata": {},
     "output_type": "execute_result"
    }
   ],
   "source": [
    "obj\n"
   ]
  },
  {
   "cell_type": "code",
   "execution_count": 26,
   "metadata": {},
   "outputs": [],
   "source": [
    "import seaborn as sn\n",
    "data = {'A' : [-0.95448984,  0.32831832],\n",
    "        'B' : [ 4.98746242, -1.8266106 ],\n",
    "        'C' : [ 0.48797835,  3.23367195],\n",
    "        'D' : [-4.52095094, -1.73537967]\n",
    "}"
   ]
  },
  {
   "cell_type": "code",
   "execution_count": 27,
   "metadata": {},
   "outputs": [
    {
     "data": {
      "image/png": "[encoded data removed]",
      "text/plain": [
       "<Figure size 432x288 with 2 Axes>"
      ]
     },
     "metadata": {
      "needs_background": "light"
     },
     "output_type": "display_data"
    }
   ],
   "source": [
    "df2 = pd.DataFrame(data,columns=['A','B','C','D'])\n",
    "corrMatrix = df2.corr()\n",
    "sn.heatmap(corrMatrix, annot=True)\n",
    "plt.show()"
   ]
  },
  {
   "cell_type": "code",
   "execution_count": null,
   "metadata": {},
   "outputs": [],
   "source": []
  },
  {
   "cell_type": "code",
   "execution_count": null,
   "metadata": {},
   "outputs": [],
   "source": []
  }
 ],
 "metadata": {
  "kernelspec": {
   "display_name": "Python 3",
   "language": "python",
   "name": "python3"
  },
  "language_info": {
   "codemirror_mode": {
    "name": "ipython",
    "version": 3
   },
   "file_extension": ".py",
   "mimetype": "text/x-python",
   "name": "python",
   "nbconvert_exporter": "python",
   "pygments_lexer": "ipython3",
   "version": "3.7.4"
  }
 },
 "nbformat": 4,
 "nbformat_minor": 2
}
